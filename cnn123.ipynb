{
 "cells": [
  {
   "cell_type": "code",
   "execution_count": 1,
   "metadata": {
    "_cell_guid": "b1076dfc-b9ad-4769-8c92-a6c4dae69d19",
    "_uuid": "8f2839f25d086af736a60e9eeb907d3b93b6e0e5",
    "execution": {
     "iopub.execute_input": "2022-01-19T21:58:04.343305Z",
     "iopub.status.busy": "2022-01-19T21:58:04.342279Z",
     "iopub.status.idle": "2022-01-19T21:58:04.623396Z",
     "shell.execute_reply": "2022-01-19T21:58:04.622680Z",
     "shell.execute_reply.started": "2022-01-19T15:39:18.605520Z"
    },
    "papermill": {
     "duration": 0.309281,
     "end_time": "2022-01-19T21:58:04.623525",
     "exception": false,
     "start_time": "2022-01-19T21:58:04.314244",
     "status": "completed"
    },
    "tags": []
   },
   "outputs": [],
   "source": [
    "\n",
    "import numpy as np \n",
    "import pandas as pd \n",
    "import cv2\n",
    "\n"
   ]
  },
  {
   "cell_type": "code",
   "execution_count": 2,
   "metadata": {
    "_cell_guid": "79c7e3d0-c299-4dcb-8224-4455121ee9b0",
    "_uuid": "d629ff2d2480ee46fbb7e2d37f6b5fab8052498a",
    "execution": {
     "iopub.execute_input": "2022-01-19T21:58:04.670514Z",
     "iopub.status.busy": "2022-01-19T21:58:04.669579Z",
     "iopub.status.idle": "2022-01-19T21:58:10.218540Z",
     "shell.execute_reply": "2022-01-19T21:58:10.217923Z",
     "shell.execute_reply.started": "2022-01-19T15:39:18.617450Z"
    },
    "papermill": {
     "duration": 5.573417,
     "end_time": "2022-01-19T21:58:10.218656",
     "exception": false,
     "start_time": "2022-01-19T21:58:04.645239",
     "status": "completed"
    },
    "tags": []
   },
   "outputs": [],
   "source": [
    "df = pd.read_csv('../input/facial-expression/fer2013.csv')"
   ]
  },
  {
   "cell_type": "code",
   "execution_count": 3,
   "metadata": {
    "execution": {
     "iopub.execute_input": "2022-01-19T21:58:10.276755Z",
     "iopub.status.busy": "2022-01-19T21:58:10.276010Z",
     "iopub.status.idle": "2022-01-19T21:58:10.285691Z",
     "shell.execute_reply": "2022-01-19T21:58:10.285093Z",
     "shell.execute_reply.started": "2022-01-19T15:39:22.834262Z"
    },
    "papermill": {
     "duration": 0.045388,
     "end_time": "2022-01-19T21:58:10.285806",
     "exception": false,
     "start_time": "2022-01-19T21:58:10.240418",
     "status": "completed"
    },
    "tags": []
   },
   "outputs": [
    {
     "data": {
      "text/html": [
       "<div>\n",
       "<style scoped>\n",
       "    .dataframe tbody tr th:only-of-type {\n",
       "        vertical-align: middle;\n",
       "    }\n",
       "\n",
       "    .dataframe tbody tr th {\n",
       "        vertical-align: top;\n",
       "    }\n",
       "\n",
       "    .dataframe thead th {\n",
       "        text-align: right;\n",
       "    }\n",
       "</style>\n",
       "<table border=\"1\" class=\"dataframe\">\n",
       "  <thead>\n",
       "    <tr style=\"text-align: right;\">\n",
       "      <th></th>\n",
       "      <th>emotion</th>\n",
       "      <th>pixels</th>\n",
       "      <th>Usage</th>\n",
       "    </tr>\n",
       "  </thead>\n",
       "  <tbody>\n",
       "    <tr>\n",
       "      <th>0</th>\n",
       "      <td>0</td>\n",
       "      <td>70 80 82 72 58 58 60 63 54 58 60 48 89 115 121...</td>\n",
       "      <td>Training</td>\n",
       "    </tr>\n",
       "    <tr>\n",
       "      <th>1</th>\n",
       "      <td>0</td>\n",
       "      <td>151 150 147 155 148 133 111 140 170 174 182 15...</td>\n",
       "      <td>Training</td>\n",
       "    </tr>\n",
       "    <tr>\n",
       "      <th>2</th>\n",
       "      <td>2</td>\n",
       "      <td>231 212 156 164 174 138 161 173 182 200 106 38...</td>\n",
       "      <td>Training</td>\n",
       "    </tr>\n",
       "    <tr>\n",
       "      <th>3</th>\n",
       "      <td>4</td>\n",
       "      <td>24 32 36 30 32 23 19 20 30 41 21 22 32 34 21 1...</td>\n",
       "      <td>Training</td>\n",
       "    </tr>\n",
       "    <tr>\n",
       "      <th>4</th>\n",
       "      <td>6</td>\n",
       "      <td>4 0 0 0 0 0 0 0 0 0 0 0 3 15 23 28 48 50 58 84...</td>\n",
       "      <td>Training</td>\n",
       "    </tr>\n",
       "  </tbody>\n",
       "</table>\n",
       "</div>"
      ],
      "text/plain": [
       "   emotion                                             pixels     Usage\n",
       "0        0  70 80 82 72 58 58 60 63 54 58 60 48 89 115 121...  Training\n",
       "1        0  151 150 147 155 148 133 111 140 170 174 182 15...  Training\n",
       "2        2  231 212 156 164 174 138 161 173 182 200 106 38...  Training\n",
       "3        4  24 32 36 30 32 23 19 20 30 41 21 22 32 34 21 1...  Training\n",
       "4        6  4 0 0 0 0 0 0 0 0 0 0 0 3 15 23 28 48 50 58 84...  Training"
      ]
     },
     "execution_count": 3,
     "metadata": {},
     "output_type": "execute_result"
    }
   ],
   "source": [
    "df.head()"
   ]
  },
  {
   "cell_type": "code",
   "execution_count": 4,
   "metadata": {
    "execution": {
     "iopub.execute_input": "2022-01-19T21:58:10.336451Z",
     "iopub.status.busy": "2022-01-19T21:58:10.335352Z",
     "iopub.status.idle": "2022-01-19T21:58:10.339483Z",
     "shell.execute_reply": "2022-01-19T21:58:10.338897Z",
     "shell.execute_reply.started": "2022-01-19T15:39:22.855701Z"
    },
    "papermill": {
     "duration": 0.031524,
     "end_time": "2022-01-19T21:58:10.339593",
     "exception": false,
     "start_time": "2022-01-19T21:58:10.308069",
     "status": "completed"
    },
    "tags": []
   },
   "outputs": [
    {
     "data": {
      "text/plain": [
       "2304"
      ]
     },
     "execution_count": 4,
     "metadata": {},
     "output_type": "execute_result"
    }
   ],
   "source": [
    "len(df.iloc[0]['pixels'].split())\n",
    "# 48 * 48"
   ]
  },
  {
   "cell_type": "code",
   "execution_count": 5,
   "metadata": {
    "execution": {
     "iopub.execute_input": "2022-01-19T21:58:10.391210Z",
     "iopub.status.busy": "2022-01-19T21:58:10.390610Z",
     "iopub.status.idle": "2022-01-19T21:58:10.392886Z",
     "shell.execute_reply": "2022-01-19T21:58:10.393336Z",
     "shell.execute_reply.started": "2022-01-19T15:39:22.874318Z"
    },
    "papermill": {
     "duration": 0.030139,
     "end_time": "2022-01-19T21:58:10.393467",
     "exception": false,
     "start_time": "2022-01-19T21:58:10.363328",
     "status": "completed"
    },
    "tags": []
   },
   "outputs": [],
   "source": [
    "label_map = ['Anger', 'Neutral', 'Fear', 'Happy', 'Sad', 'Surprise']"
   ]
  },
  {
   "cell_type": "code",
   "execution_count": 6,
   "metadata": {
    "execution": {
     "iopub.execute_input": "2022-01-19T21:58:10.440536Z",
     "iopub.status.busy": "2022-01-19T21:58:10.439982Z",
     "iopub.status.idle": "2022-01-19T21:58:10.443338Z",
     "shell.execute_reply": "2022-01-19T21:58:10.443795Z",
     "shell.execute_reply.started": "2022-01-19T15:39:22.899842Z"
    },
    "papermill": {
     "duration": 0.028229,
     "end_time": "2022-01-19T21:58:10.443951",
     "exception": false,
     "start_time": "2022-01-19T21:58:10.415722",
     "status": "completed"
    },
    "tags": []
   },
   "outputs": [],
   "source": [
    "import matplotlib.pyplot as plt"
   ]
  },
  {
   "cell_type": "code",
   "execution_count": 7,
   "metadata": {
    "execution": {
     "iopub.execute_input": "2022-01-19T21:58:10.490786Z",
     "iopub.status.busy": "2022-01-19T21:58:10.490227Z",
     "iopub.status.idle": "2022-01-19T21:58:10.494395Z",
     "shell.execute_reply": "2022-01-19T21:58:10.494875Z",
     "shell.execute_reply.started": "2022-01-19T15:39:22.933581Z"
    },
    "papermill": {
     "duration": 0.029006,
     "end_time": "2022-01-19T21:58:10.495056",
     "exception": false,
     "start_time": "2022-01-19T21:58:10.466050",
     "status": "completed"
    },
    "tags": []
   },
   "outputs": [],
   "source": [
    "img = df.iloc[0]['pixels'].split()"
   ]
  },
  {
   "cell_type": "code",
   "execution_count": 8,
   "metadata": {
    "execution": {
     "iopub.execute_input": "2022-01-19T21:58:10.542680Z",
     "iopub.status.busy": "2022-01-19T21:58:10.542090Z",
     "iopub.status.idle": "2022-01-19T21:58:10.546011Z",
     "shell.execute_reply": "2022-01-19T21:58:10.546491Z",
     "shell.execute_reply.started": "2022-01-19T15:39:22.957533Z"
    },
    "papermill": {
     "duration": 0.02913,
     "end_time": "2022-01-19T21:58:10.546627",
     "exception": false,
     "start_time": "2022-01-19T21:58:10.517497",
     "status": "completed"
    },
    "tags": []
   },
   "outputs": [],
   "source": [
    "img = [int(i) for i in img]"
   ]
  },
  {
   "cell_type": "code",
   "execution_count": 9,
   "metadata": {
    "execution": {
     "iopub.execute_input": "2022-01-19T21:58:10.593861Z",
     "iopub.status.busy": "2022-01-19T21:58:10.593306Z",
     "iopub.status.idle": "2022-01-19T21:58:10.597719Z",
     "shell.execute_reply": "2022-01-19T21:58:10.598179Z",
     "shell.execute_reply.started": "2022-01-19T15:39:22.978850Z"
    },
    "papermill": {
     "duration": 0.029287,
     "end_time": "2022-01-19T21:58:10.598313",
     "exception": false,
     "start_time": "2022-01-19T21:58:10.569026",
     "status": "completed"
    },
    "tags": []
   },
   "outputs": [
    {
     "data": {
      "text/plain": [
       "int"
      ]
     },
     "execution_count": 9,
     "metadata": {},
     "output_type": "execute_result"
    }
   ],
   "source": [
    "type(img[0])"
   ]
  },
  {
   "cell_type": "code",
   "execution_count": 10,
   "metadata": {
    "execution": {
     "iopub.execute_input": "2022-01-19T21:58:10.646662Z",
     "iopub.status.busy": "2022-01-19T21:58:10.646054Z",
     "iopub.status.idle": "2022-01-19T21:58:10.650462Z",
     "shell.execute_reply": "2022-01-19T21:58:10.650975Z",
     "shell.execute_reply.started": "2022-01-19T15:39:23.012819Z"
    },
    "papermill": {
     "duration": 0.03062,
     "end_time": "2022-01-19T21:58:10.651113",
     "exception": false,
     "start_time": "2022-01-19T21:58:10.620493",
     "status": "completed"
    },
    "tags": []
   },
   "outputs": [
    {
     "data": {
      "text/plain": [
       "2304"
      ]
     },
     "execution_count": 10,
     "metadata": {},
     "output_type": "execute_result"
    }
   ],
   "source": [
    "len(img)"
   ]
  },
  {
   "cell_type": "code",
   "execution_count": 11,
   "metadata": {
    "execution": {
     "iopub.execute_input": "2022-01-19T21:58:10.701299Z",
     "iopub.status.busy": "2022-01-19T21:58:10.700704Z",
     "iopub.status.idle": "2022-01-19T21:58:10.704240Z",
     "shell.execute_reply": "2022-01-19T21:58:10.704756Z",
     "shell.execute_reply.started": "2022-01-19T15:39:23.038133Z"
    },
    "papermill": {
     "duration": 0.029822,
     "end_time": "2022-01-19T21:58:10.704900",
     "exception": false,
     "start_time": "2022-01-19T21:58:10.675078",
     "status": "completed"
    },
    "tags": []
   },
   "outputs": [],
   "source": [
    "img = np.array(img)"
   ]
  },
  {
   "cell_type": "code",
   "execution_count": 12,
   "metadata": {
    "execution": {
     "iopub.execute_input": "2022-01-19T21:58:10.753723Z",
     "iopub.status.busy": "2022-01-19T21:58:10.753196Z",
     "iopub.status.idle": "2022-01-19T21:58:10.756684Z",
     "shell.execute_reply": "2022-01-19T21:58:10.757152Z",
     "shell.execute_reply.started": "2022-01-19T15:39:23.067117Z"
    },
    "papermill": {
     "duration": 0.028872,
     "end_time": "2022-01-19T21:58:10.757285",
     "exception": false,
     "start_time": "2022-01-19T21:58:10.728413",
     "status": "completed"
    },
    "tags": []
   },
   "outputs": [],
   "source": [
    "img = img.reshape(48,48)"
   ]
  },
  {
   "cell_type": "code",
   "execution_count": 13,
   "metadata": {
    "execution": {
     "iopub.execute_input": "2022-01-19T21:58:10.805246Z",
     "iopub.status.busy": "2022-01-19T21:58:10.804672Z",
     "iopub.status.idle": "2022-01-19T21:58:10.809346Z",
     "shell.execute_reply": "2022-01-19T21:58:10.809878Z",
     "shell.execute_reply.started": "2022-01-19T15:39:23.090985Z"
    },
    "papermill": {
     "duration": 0.030279,
     "end_time": "2022-01-19T21:58:10.810021",
     "exception": false,
     "start_time": "2022-01-19T21:58:10.779742",
     "status": "completed"
    },
    "tags": []
   },
   "outputs": [
    {
     "data": {
      "text/plain": [
       "(48, 48)"
      ]
     },
     "execution_count": 13,
     "metadata": {},
     "output_type": "execute_result"
    }
   ],
   "source": [
    "img.shape"
   ]
  },
  {
   "cell_type": "code",
   "execution_count": 14,
   "metadata": {
    "execution": {
     "iopub.execute_input": "2022-01-19T21:58:10.858809Z",
     "iopub.status.busy": "2022-01-19T21:58:10.858278Z",
     "iopub.status.idle": "2022-01-19T21:58:11.023685Z",
     "shell.execute_reply": "2022-01-19T21:58:11.024122Z",
     "shell.execute_reply.started": "2022-01-19T15:39:23.116866Z"
    },
    "papermill": {
     "duration": 0.191503,
     "end_time": "2022-01-19T21:58:11.024272",
     "exception": false,
     "start_time": "2022-01-19T21:58:10.832769",
     "status": "completed"
    },
    "tags": []
   },
   "outputs": [
    {
     "data": {
      "text/plain": [
       "Text(0.5, 0, '0')"
      ]
     },
     "execution_count": 14,
     "metadata": {},
     "output_type": "execute_result"
    },
    {
     "data": {
      "image/png": "[encoded data removed]",
      "text/plain": [
       "<Figure size 432x288 with 1 Axes>"
      ]
     },
     "metadata": {
      "needs_background": "light"
     },
     "output_type": "display_data"
    }
   ],
   "source": [
    "plt.imshow(img, cmap='gray')\n",
    "plt.xlabel(df.iloc[0]['emotion'])"
   ]
  },
  {
   "cell_type": "code",
   "execution_count": 15,
   "metadata": {
    "execution": {
     "iopub.execute_input": "2022-01-19T21:58:11.076312Z",
     "iopub.status.busy": "2022-01-19T21:58:11.075413Z",
     "iopub.status.idle": "2022-01-19T21:58:11.079174Z",
     "shell.execute_reply": "2022-01-19T21:58:11.079605Z",
     "shell.execute_reply.started": "2022-01-19T15:39:23.347361Z"
    },
    "papermill": {
     "duration": 0.031219,
     "end_time": "2022-01-19T21:58:11.079734",
     "exception": false,
     "start_time": "2022-01-19T21:58:11.048515",
     "status": "completed"
    },
    "tags": []
   },
   "outputs": [],
   "source": [
    "X = []\n",
    "y = []"
   ]
  },
  {
   "cell_type": "code",
   "execution_count": 16,
   "metadata": {
    "execution": {
     "iopub.execute_input": "2022-01-19T21:58:11.130510Z",
     "iopub.status.busy": "2022-01-19T21:58:11.129550Z",
     "iopub.status.idle": "2022-01-19T21:58:11.205566Z",
     "shell.execute_reply": "2022-01-19T21:58:11.204556Z",
     "shell.execute_reply.started": "2022-01-19T15:39:23.358260Z"
    },
    "papermill": {
     "duration": 0.102406,
     "end_time": "2022-01-19T21:58:11.205692",
     "exception": false,
     "start_time": "2022-01-19T21:58:11.103286",
     "status": "completed"
    },
    "tags": []
   },
   "outputs": [],
   "source": [
    "def getData(path):\n",
    "    anger = 0\n",
    "    fear = 0\n",
    "    sad = 0\n",
    "    happy = 0\n",
    "    surprise = 0\n",
    "    neutral = 0\n",
    "    df = pd.read_csv(path)\n",
    "    \n",
    "    X = []\n",
    "    y = []    \n",
    "    \n",
    "    for i in range(len(df)):\n",
    "        if df.iloc[i]['emotion'] != 1:\n",
    "            if df.iloc[i]['emotion'] == 0:\n",
    "                if anger <= 4000:            \n",
    "                    y.append(df.iloc[i]['emotion'])\n",
    "                    im = df.iloc[i]['pixels']\n",
    "                    im = [int(x) for x in im.split()]\n",
    "                    X.append(im)\n",
    "                    anger += 1\n",
    "                else:\n",
    "                    pass\n",
    "                \n",
    "            if df.iloc[i]['emotion'] == 2:\n",
    "                if fear <= 4000:            \n",
    "                    y.append(df.iloc[i]['emotion'])\n",
    "                    im = df.iloc[i]['pixels']\n",
    "                    im = [int(x) for x in im.split()]\n",
    "                    X.append(im)\n",
    "                    fear += 1\n",
    "                else:\n",
    "                    pass\n",
    "                \n",
    "            if df.iloc[i]['emotion'] == 3:\n",
    "                if happy <= 4000:            \n",
    "                    y.append(df.iloc[i]['emotion'])\n",
    "                    im = df.iloc[i]['pixels']\n",
    "                    im = [int(x) for x in im.split()]\n",
    "                    X.append(im)\n",
    "                    happy += 1\n",
    "                else:\n",
    "                    pass\n",
    "                \n",
    "            if df.iloc[i]['emotion'] == 4:\n",
    "                if sad <= 4000:            \n",
    "                    y.append(df.iloc[i]['emotion'])\n",
    "                    im = df.iloc[i]['pixels']\n",
    "                    im = [int(x) for x in im.split()]\n",
    "                    X.append(im)\n",
    "                    sad += 1\n",
    "                else:\n",
    "                    pass\n",
    "                \n",
    "            if df.iloc[i]['emotion'] == 5:\n",
    "                if surprise <= 4000:            \n",
    "                    y.append(df.iloc[i]['emotion'])\n",
    "                    im = df.iloc[i]['pixels']\n",
    "                    im = [int(x) for x in im.split()]\n",
    "                    X.append(im)\n",
    "                    surprise += 1\n",
    "                else:\n",
    "                    pass\n",
    "                \n",
    "            if df.iloc[i]['emotion'] == 6:\n",
    "                if neutral <= 4000:            \n",
    "                    y.append(df.iloc[i]['emotion'])\n",
    "                    im = df.iloc[i]['pixels']\n",
    "                    im = [int(x) for x in im.split()]\n",
    "                    X.append(im)\n",
    "                    neutral += 1\n",
    "                else:\n",
    "                    pass\n",
    "\n",
    "            \n",
    "            \n",
    "    return X, y  \n",
    "    "
   ]
  },
  {
   "cell_type": "code",
   "execution_count": 17,
   "metadata": {
    "execution": {
     "iopub.execute_input": "2022-01-19T21:58:11.256469Z",
     "iopub.status.busy": "2022-01-19T21:58:11.255547Z",
     "iopub.status.idle": "2022-01-19T21:59:04.626400Z",
     "shell.execute_reply": "2022-01-19T21:59:04.626904Z",
     "shell.execute_reply.started": "2022-01-19T15:39:23.403124Z"
    },
    "papermill": {
     "duration": 53.397868,
     "end_time": "2022-01-19T21:59:04.627080",
     "exception": false,
     "start_time": "2022-01-19T21:58:11.229212",
     "status": "completed"
    },
    "tags": []
   },
   "outputs": [],
   "source": [
    "X, y = getData('../input/facial-expression/fer2013.csv')"
   ]
  },
  {
   "cell_type": "code",
   "execution_count": 18,
   "metadata": {
    "execution": {
     "iopub.execute_input": "2022-01-19T21:59:04.678601Z",
     "iopub.status.busy": "2022-01-19T21:59:04.677639Z",
     "iopub.status.idle": "2022-01-19T21:59:04.695324Z",
     "shell.execute_reply": "2022-01-19T21:59:04.695734Z",
     "shell.execute_reply.started": "2022-01-19T15:40:38.986590Z"
    },
    "papermill": {
     "duration": 0.044802,
     "end_time": "2022-01-19T21:59:04.695899",
     "exception": false,
     "start_time": "2022-01-19T21:59:04.651097",
     "status": "completed"
    },
    "tags": []
   },
   "outputs": [
    {
     "data": {
      "text/plain": [
       "(array([0, 2, 3, 4, 5, 6]), array([4001, 4001, 4001, 4001, 4001, 4001]))"
      ]
     },
     "execution_count": 18,
     "metadata": {},
     "output_type": "execute_result"
    }
   ],
   "source": [
    "np.unique(y, return_counts=True)"
   ]
  },
  {
   "cell_type": "code",
   "execution_count": 19,
   "metadata": {
    "execution": {
     "iopub.execute_input": "2022-01-19T21:59:04.750422Z",
     "iopub.status.busy": "2022-01-19T21:59:04.749784Z",
     "iopub.status.idle": "2022-01-19T21:59:09.079364Z",
     "shell.execute_reply": "2022-01-19T21:59:09.078698Z",
     "shell.execute_reply.started": "2022-01-19T15:40:39.010126Z"
    },
    "papermill": {
     "duration": 4.358069,
     "end_time": "2022-01-19T21:59:09.079491",
     "exception": false,
     "start_time": "2022-01-19T21:59:04.721422",
     "status": "completed"
    },
    "tags": []
   },
   "outputs": [],
   "source": [
    "X = np.array(X)/255.0\n",
    "y = np.array(y)"
   ]
  },
  {
   "cell_type": "code",
   "execution_count": 20,
   "metadata": {
    "execution": {
     "iopub.execute_input": "2022-01-19T21:59:09.132966Z",
     "iopub.status.busy": "2022-01-19T21:59:09.132334Z",
     "iopub.status.idle": "2022-01-19T21:59:09.135574Z",
     "shell.execute_reply": "2022-01-19T21:59:09.135988Z",
     "shell.execute_reply.started": "2022-01-19T15:40:51.281355Z"
    },
    "papermill": {
     "duration": 0.032366,
     "end_time": "2022-01-19T21:59:09.136128",
     "exception": false,
     "start_time": "2022-01-19T21:59:09.103762",
     "status": "completed"
    },
    "tags": []
   },
   "outputs": [
    {
     "data": {
      "text/plain": [
       "((24006, 2304), (24006,))"
      ]
     },
     "execution_count": 20,
     "metadata": {},
     "output_type": "execute_result"
    }
   ],
   "source": [
    "X.shape, y.shape"
   ]
  },
  {
   "cell_type": "code",
   "execution_count": 21,
   "metadata": {
    "execution": {
     "iopub.execute_input": "2022-01-19T21:59:09.188520Z",
     "iopub.status.busy": "2022-01-19T21:59:09.187943Z",
     "iopub.status.idle": "2022-01-19T21:59:09.202391Z",
     "shell.execute_reply": "2022-01-19T21:59:09.201862Z",
     "shell.execute_reply.started": "2022-01-19T15:40:51.288126Z"
    },
    "papermill": {
     "duration": 0.041299,
     "end_time": "2022-01-19T21:59:09.202510",
     "exception": false,
     "start_time": "2022-01-19T21:59:09.161211",
     "status": "completed"
    },
    "tags": []
   },
   "outputs": [],
   "source": [
    "y_o = []\n",
    "for i in y:\n",
    "    if i != 6:\n",
    "        y_o.append(i)\n",
    "        \n",
    "    else:\n",
    "        y_o.append(1)"
   ]
  },
  {
   "cell_type": "code",
   "execution_count": 22,
   "metadata": {
    "execution": {
     "iopub.execute_input": "2022-01-19T21:59:09.258059Z",
     "iopub.status.busy": "2022-01-19T21:59:09.257458Z",
     "iopub.status.idle": "2022-01-19T21:59:09.262414Z",
     "shell.execute_reply": "2022-01-19T21:59:09.262983Z",
     "shell.execute_reply.started": "2022-01-19T15:40:51.322472Z"
    },
    "papermill": {
     "duration": 0.036135,
     "end_time": "2022-01-19T21:59:09.263124",
     "exception": false,
     "start_time": "2022-01-19T21:59:09.226989",
     "status": "completed"
    },
    "tags": []
   },
   "outputs": [
    {
     "data": {
      "text/plain": [
       "(array([0, 1, 2, 3, 4, 5]), array([4001, 4001, 4001, 4001, 4001, 4001]))"
      ]
     },
     "execution_count": 22,
     "metadata": {},
     "output_type": "execute_result"
    }
   ],
   "source": [
    "np.unique(y_o, return_counts=True)"
   ]
  },
  {
   "cell_type": "code",
   "execution_count": 23,
   "metadata": {
    "execution": {
     "iopub.execute_input": "2022-01-19T21:59:09.315436Z",
     "iopub.status.busy": "2022-01-19T21:59:09.314504Z",
     "iopub.status.idle": "2022-01-19T21:59:09.910672Z",
     "shell.execute_reply": "2022-01-19T21:59:09.911178Z",
     "shell.execute_reply.started": "2022-01-19T15:40:51.337827Z"
    },
    "papermill": {
     "duration": 0.623869,
     "end_time": "2022-01-19T21:59:09.911335",
     "exception": false,
     "start_time": "2022-01-19T21:59:09.287466",
     "status": "completed"
    },
    "tags": []
   },
   "outputs": [
    {
     "data": {
      "image/png": "[encoded data removed]",
      "text/plain": [
       "<Figure size 432x288 with 1 Axes>"
      ]
     },
     "metadata": {
      "needs_background": "light"
     },
     "output_type": "display_data"
    },
    {
     "data": {
      "image/png": "[encoded data removed]",
      "text/plain": [
       "<Figure size 432x288 with 1 Axes>"
      ]
     },
     "metadata": {
      "needs_background": "light"
     },
     "output_type": "display_data"
    },
    {
     "data": {
      "image/png": "[encoded data removed]",
      "text/plain": [
       "<Figure size 432x288 with 1 Axes>"
      ]
     },
     "metadata": {
      "needs_background": "light"
     },
     "output_type": "display_data"
    },
    {
     "data": {
      "image/png": "[encoded data removed]",
      "text/plain": [
       "<Figure size 432x288 with 1 Axes>"
      ]
     },
     "metadata": {
      "needs_background": "light"
     },
     "output_type": "display_data"
    },
    {
     "data": {
      "image/png": "[encoded data removed]",
      "text/plain": [
       "<Figure size 432x288 with 1 Axes>"
      ]
     },
     "metadata": {
      "needs_background": "light"
     },
     "output_type": "display_data"
    }
   ],
   "source": [
    "for i in range(5):\n",
    "    r = np.random.randint((1), 24000, 1)[0]\n",
    "    plt.figure()\n",
    "    plt.imshow(X[r].reshape(48,48), cmap='gray')\n",
    "    plt.xlabel(label_map[y_o[r]])"
   ]
  },
  {
   "cell_type": "code",
   "execution_count": 24,
   "metadata": {
    "execution": {
     "iopub.execute_input": "2022-01-19T21:59:09.973090Z",
     "iopub.status.busy": "2022-01-19T21:59:09.972477Z",
     "iopub.status.idle": "2022-01-19T21:59:09.976159Z",
     "shell.execute_reply": "2022-01-19T21:59:09.976586Z",
     "shell.execute_reply.started": "2022-01-19T15:40:52.305819Z"
    },
    "papermill": {
     "duration": 0.037181,
     "end_time": "2022-01-19T21:59:09.976736",
     "exception": false,
     "start_time": "2022-01-19T21:59:09.939555",
     "status": "completed"
    },
    "tags": []
   },
   "outputs": [],
   "source": [
    "X = X.reshape(len(X), 48, 48, 1)"
   ]
  },
  {
   "cell_type": "code",
   "execution_count": 25,
   "metadata": {
    "execution": {
     "iopub.execute_input": "2022-01-19T21:59:10.038592Z",
     "iopub.status.busy": "2022-01-19T21:59:10.037597Z",
     "iopub.status.idle": "2022-01-19T21:59:10.039998Z",
     "shell.execute_reply": "2022-01-19T21:59:10.039389Z",
     "shell.execute_reply.started": "2022-01-19T15:40:52.313589Z"
    },
    "papermill": {
     "duration": 0.034849,
     "end_time": "2022-01-19T21:59:10.040113",
     "exception": false,
     "start_time": "2022-01-19T21:59:10.005264",
     "status": "completed"
    },
    "tags": []
   },
   "outputs": [],
   "source": [
    "# no_of_images, height, width, coloar_map"
   ]
  },
  {
   "cell_type": "code",
   "execution_count": 26,
   "metadata": {
    "execution": {
     "iopub.execute_input": "2022-01-19T21:59:10.102805Z",
     "iopub.status.busy": "2022-01-19T21:59:10.102008Z",
     "iopub.status.idle": "2022-01-19T21:59:10.105307Z",
     "shell.execute_reply": "2022-01-19T21:59:10.105791Z",
     "shell.execute_reply.started": "2022-01-19T15:40:52.323414Z"
    },
    "papermill": {
     "duration": 0.037744,
     "end_time": "2022-01-19T21:59:10.105965",
     "exception": false,
     "start_time": "2022-01-19T21:59:10.068221",
     "status": "completed"
    },
    "tags": []
   },
   "outputs": [
    {
     "data": {
      "text/plain": [
       "(24006, 48, 48, 1)"
      ]
     },
     "execution_count": 26,
     "metadata": {},
     "output_type": "execute_result"
    }
   ],
   "source": [
    "X.shape"
   ]
  },
  {
   "cell_type": "code",
   "execution_count": 27,
   "metadata": {
    "execution": {
     "iopub.execute_input": "2022-01-19T21:59:10.169195Z",
     "iopub.status.busy": "2022-01-19T21:59:10.168563Z",
     "iopub.status.idle": "2022-01-19T21:59:14.998169Z",
     "shell.execute_reply": "2022-01-19T21:59:14.997512Z",
     "shell.execute_reply.started": "2022-01-19T15:40:52.334556Z"
    },
    "papermill": {
     "duration": 4.862401,
     "end_time": "2022-01-19T21:59:14.998293",
     "exception": false,
     "start_time": "2022-01-19T21:59:10.135892",
     "status": "completed"
    },
    "tags": []
   },
   "outputs": [],
   "source": [
    "from keras.utils import to_categorical\n",
    "y_new = to_categorical(y_o, num_classes=6)"
   ]
  },
  {
   "cell_type": "code",
   "execution_count": 28,
   "metadata": {
    "execution": {
     "iopub.execute_input": "2022-01-19T21:59:15.060703Z",
     "iopub.status.busy": "2022-01-19T21:59:15.060117Z",
     "iopub.status.idle": "2022-01-19T21:59:15.062378Z",
     "shell.execute_reply": "2022-01-19T21:59:15.062933Z",
     "shell.execute_reply.started": "2022-01-19T15:40:52.347233Z"
    },
    "papermill": {
     "duration": 0.035899,
     "end_time": "2022-01-19T21:59:15.063072",
     "exception": false,
     "start_time": "2022-01-19T21:59:15.027173",
     "status": "completed"
    },
    "tags": []
   },
   "outputs": [
    {
     "data": {
      "text/plain": [
       "(24006, (24006, 6))"
      ]
     },
     "execution_count": 28,
     "metadata": {},
     "output_type": "execute_result"
    }
   ],
   "source": [
    "len(y_o), y_new.shape"
   ]
  },
  {
   "cell_type": "code",
   "execution_count": 29,
   "metadata": {
    "execution": {
     "iopub.execute_input": "2022-01-19T21:59:15.122992Z",
     "iopub.status.busy": "2022-01-19T21:59:15.122433Z",
     "iopub.status.idle": "2022-01-19T21:59:15.127409Z",
     "shell.execute_reply": "2022-01-19T21:59:15.127908Z",
     "shell.execute_reply.started": "2022-01-19T15:40:52.359593Z"
    },
    "papermill": {
     "duration": 0.036744,
     "end_time": "2022-01-19T21:59:15.128054",
     "exception": false,
     "start_time": "2022-01-19T21:59:15.091310",
     "status": "completed"
    },
    "tags": []
   },
   "outputs": [
    {
     "data": {
      "text/plain": [
       "(0, array([1., 0., 0., 0., 0., 0.], dtype=float32))"
      ]
     },
     "execution_count": 29,
     "metadata": {},
     "output_type": "execute_result"
    }
   ],
   "source": [
    "y_o[150], y_new[150]"
   ]
  },
  {
   "cell_type": "code",
   "execution_count": 30,
   "metadata": {
    "execution": {
     "iopub.execute_input": "2022-01-19T21:59:15.189238Z",
     "iopub.status.busy": "2022-01-19T21:59:15.188576Z",
     "iopub.status.idle": "2022-01-19T21:59:15.193409Z",
     "shell.execute_reply": "2022-01-19T21:59:15.193855Z",
     "shell.execute_reply.started": "2022-01-19T15:40:52.369668Z"
    },
    "papermill": {
     "duration": 0.03664,
     "end_time": "2022-01-19T21:59:15.194023",
     "exception": false,
     "start_time": "2022-01-19T21:59:15.157383",
     "status": "completed"
    },
    "tags": []
   },
   "outputs": [],
   "source": [
    "from keras.models import Sequential\n",
    "from keras.layers import Dense , Activation , Dropout ,Flatten\n",
    "from keras.layers.convolutional import Conv2D\n",
    "from keras.layers.convolutional import MaxPooling2D\n",
    "from keras.metrics import categorical_accuracy\n",
    "from keras.models import model_from_json\n",
    "from keras.callbacks import ModelCheckpoint\n",
    "from keras.optimizers import *\n",
    "from keras.layers.normalization import BatchNormalization"
   ]
  },
  {
   "cell_type": "code",
   "execution_count": 31,
   "metadata": {
    "execution": {
     "iopub.execute_input": "2022-01-19T21:59:15.253851Z",
     "iopub.status.busy": "2022-01-19T21:59:15.253285Z",
     "iopub.status.idle": "2022-01-19T21:59:15.513350Z",
     "shell.execute_reply": "2022-01-19T21:59:15.512696Z",
     "shell.execute_reply.started": "2022-01-19T15:40:52.379405Z"
    },
    "papermill": {
     "duration": 0.290976,
     "end_time": "2022-01-19T21:59:15.513466",
     "exception": false,
     "start_time": "2022-01-19T21:59:15.222490",
     "status": "completed"
    },
    "tags": []
   },
   "outputs": [],
   "source": [
    "model = Sequential()\n",
    "\n",
    "\n",
    "input_shape = (48,48,1)\n",
    "\n",
    "\n",
    "model.add(Conv2D(64, (5, 5), input_shape=input_shape,activation='relu', padding='same'))\n",
    "model.add(Conv2D(64, (5, 5), padding='same'))\n",
    "model.add(BatchNormalization())\n",
    "model.add(Activation('relu'))\n",
    "model.add(MaxPooling2D(pool_size=(2, 2)))\n",
    "\n",
    "\n",
    "model.add(Conv2D(128, (5, 5),activation='relu',padding='same'))\n",
    "model.add(Conv2D(128, (5, 5),padding='same'))\n",
    "model.add(BatchNormalization())\n",
    "model.add(Activation('relu'))\n",
    "model.add(MaxPooling2D(pool_size=(2, 2)))\n",
    "\n",
    "model.add(Conv2D(256, (3, 3),activation='relu',padding='same'))\n",
    "model.add(Conv2D(256, (3, 3),activation='relu',padding='same'))\n",
    "model.add(BatchNormalization())\n",
    "model.add(MaxPooling2D(pool_size=(2, 2)))\n",
    "\n",
    "## (15, 15) --->  30\n",
    "model.add(Flatten())\n",
    "model.add(Dense(6, activation='softmax'))\n",
    "\n",
    "model.compile(loss='categorical_crossentropy', metrics=['accuracy'],optimizer='adam')"
   ]
  },
  {
   "cell_type": "code",
   "execution_count": 32,
   "metadata": {
    "execution": {
     "iopub.execute_input": "2022-01-19T21:59:15.576993Z",
     "iopub.status.busy": "2022-01-19T21:59:15.576401Z",
     "iopub.status.idle": "2022-01-20T03:36:46.256075Z",
     "shell.execute_reply": "2022-01-20T03:36:46.255574Z"
    },
    "papermill": {
     "duration": 20250.713814,
     "end_time": "2022-01-20T03:36:46.256229",
     "exception": false,
     "start_time": "2022-01-19T21:59:15.542415",
     "status": "completed"
    },
    "tags": []
   },
   "outputs": [
    {
     "name": "stdout",
     "output_type": "stream",
     "text": [
      "Epoch 1/22\n",
      "301/301 [==============================] - 900s 3s/step - loss: 2.1640 - accuracy: 0.2454 - val_loss: 2.9848 - val_accuracy: 0.1447\n",
      "Epoch 2/22\n",
      "301/301 [==============================] - 904s 3s/step - loss: 1.6806 - accuracy: 0.3351 - val_loss: 2.2665 - val_accuracy: 0.3063\n",
      "Epoch 3/22\n",
      "301/301 [==============================] - 906s 3s/step - loss: 1.5254 - accuracy: 0.4046 - val_loss: 1.5956 - val_accuracy: 0.3980\n",
      "Epoch 4/22\n",
      "301/301 [==============================] - 903s 3s/step - loss: 1.4310 - accuracy: 0.4480 - val_loss: 2.0206 - val_accuracy: 0.3215\n",
      "Epoch 5/22\n",
      "301/301 [==============================] - 905s 3s/step - loss: 1.3338 - accuracy: 0.4852 - val_loss: 1.3368 - val_accuracy: 0.4569\n",
      "Epoch 6/22\n",
      "301/301 [==============================] - 905s 3s/step - loss: 1.2623 - accuracy: 0.5072 - val_loss: 1.9226 - val_accuracy: 0.3340\n",
      "Epoch 7/22\n",
      "301/301 [==============================] - 907s 3s/step - loss: 1.1912 - accuracy: 0.5433 - val_loss: 1.8726 - val_accuracy: 0.3617\n",
      "Epoch 8/22\n",
      "301/301 [==============================] - 908s 3s/step - loss: 1.1277 - accuracy: 0.5666 - val_loss: 1.2819 - val_accuracy: 0.5167\n",
      "Epoch 9/22\n",
      "301/301 [==============================] - 906s 3s/step - loss: 1.0681 - accuracy: 0.5906 - val_loss: 1.2461 - val_accuracy: 0.5129\n",
      "Epoch 10/22\n",
      "301/301 [==============================] - 911s 3s/step - loss: 1.0057 - accuracy: 0.6194 - val_loss: 1.7047 - val_accuracy: 0.4638\n",
      "Epoch 11/22\n",
      "301/301 [==============================] - 911s 3s/step - loss: 0.9354 - accuracy: 0.6497 - val_loss: 1.6541 - val_accuracy: 0.4109\n",
      "Epoch 12/22\n",
      "301/301 [==============================] - 924s 3s/step - loss: 0.8606 - accuracy: 0.6785 - val_loss: 1.7266 - val_accuracy: 0.4386\n",
      "Epoch 13/22\n",
      "301/301 [==============================] - 920s 3s/step - loss: 0.7823 - accuracy: 0.7092 - val_loss: 1.4420 - val_accuracy: 0.5437\n",
      "Epoch 14/22\n",
      "301/301 [==============================] - 930s 3s/step - loss: 0.6576 - accuracy: 0.7579 - val_loss: 1.5300 - val_accuracy: 0.5140\n",
      "Epoch 15/22\n",
      "301/301 [==============================] - 919s 3s/step - loss: 0.5511 - accuracy: 0.7982 - val_loss: 1.4829 - val_accuracy: 0.5808\n",
      "Epoch 16/22\n",
      "301/301 [==============================] - 947s 3s/step - loss: 0.4255 - accuracy: 0.8465 - val_loss: 1.6740 - val_accuracy: 0.5573\n",
      "Epoch 17/22\n",
      "301/301 [==============================] - 942s 3s/step - loss: 0.3677 - accuracy: 0.8651 - val_loss: 2.2311 - val_accuracy: 0.4896\n",
      "Epoch 18/22\n",
      "301/301 [==============================] - 922s 3s/step - loss: 0.2392 - accuracy: 0.9188 - val_loss: 2.0357 - val_accuracy: 0.5591\n",
      "Epoch 19/22\n",
      "301/301 [==============================] - 918s 3s/step - loss: 0.2054 - accuracy: 0.9315 - val_loss: 3.1807 - val_accuracy: 0.4594\n",
      "Epoch 20/22\n",
      "301/301 [==============================] - 928s 3s/step - loss: 0.1679 - accuracy: 0.9443 - val_loss: 2.3009 - val_accuracy: 0.5071\n",
      "Epoch 21/22\n",
      "301/301 [==============================] - 939s 3s/step - loss: 0.1431 - accuracy: 0.9545 - val_loss: 2.5495 - val_accuracy: 0.5556\n",
      "Epoch 22/22\n",
      "301/301 [==============================] - 923s 3s/step - loss: 0.1202 - accuracy: 0.9639 - val_loss: 2.8773 - val_accuracy: 0.5242\n"
     ]
    },
    {
     "data": {
      "text/plain": [
       "<tensorflow.python.keras.callbacks.History at 0x7fb8d28fc190>"
      ]
     },
     "execution_count": 32,
     "metadata": {},
     "output_type": "execute_result"
    }
   ],
   "source": [
    "model.fit(X, y_new, epochs=22, batch_size=64, shuffle=True, validation_split=0.2)"
   ]
  },
  {
   "cell_type": "code",
   "execution_count": 33,
   "metadata": {
    "execution": {
     "iopub.execute_input": "2022-01-20T03:36:49.614102Z",
     "iopub.status.busy": "2022-01-20T03:36:49.613428Z",
     "iopub.status.idle": "2022-01-20T03:36:49.714448Z",
     "shell.execute_reply": "2022-01-20T03:36:49.713770Z"
    },
    "papermill": {
     "duration": 1.816472,
     "end_time": "2022-01-20T03:36:49.714568",
     "exception": false,
     "start_time": "2022-01-20T03:36:47.898096",
     "status": "completed"
    },
    "tags": []
   },
   "outputs": [],
   "source": [
    "model.save('model.h5')"
   ]
  },
  {
   "cell_type": "code",
   "execution_count": 34,
   "metadata": {
    "execution": {
     "iopub.execute_input": "2022-01-20T03:36:53.026476Z",
     "iopub.status.busy": "2022-01-20T03:36:53.025871Z",
     "iopub.status.idle": "2022-01-20T03:36:53.028929Z",
     "shell.execute_reply": "2022-01-20T03:36:53.028336Z"
    },
    "papermill": {
     "duration": 1.660592,
     "end_time": "2022-01-20T03:36:53.029043",
     "exception": false,
     "start_time": "2022-01-20T03:36:51.368451",
     "status": "completed"
    },
    "tags": []
   },
   "outputs": [],
   "source": [
    "import cv2"
   ]
  },
  {
   "cell_type": "code",
   "execution_count": 35,
   "metadata": {
    "execution": {
     "iopub.execute_input": "2022-01-20T03:36:56.412461Z",
     "iopub.status.busy": "2022-01-20T03:36:56.411707Z",
     "iopub.status.idle": "2022-01-20T03:36:56.414427Z",
     "shell.execute_reply": "2022-01-20T03:36:56.415010Z"
    },
    "papermill": {
     "duration": 1.663426,
     "end_time": "2022-01-20T03:36:56.415157",
     "exception": false,
     "start_time": "2022-01-20T03:36:54.751731",
     "status": "completed"
    },
    "tags": []
   },
   "outputs": [],
   "source": [
    "test_img = cv2.imread('../input/happy-img-test/pexels-andrea-piacquadio-941693.jpg', 0)"
   ]
  },
  {
   "cell_type": "code",
   "execution_count": 36,
   "metadata": {
    "execution": {
     "iopub.execute_input": "2022-01-20T03:36:59.722251Z",
     "iopub.status.busy": "2022-01-20T03:36:59.721639Z",
     "iopub.status.idle": "2022-01-20T03:37:00.064045Z",
     "shell.execute_reply": "2022-01-20T03:37:00.062733Z"
    },
    "papermill": {
     "duration": 1.994993,
     "end_time": "2022-01-20T03:37:00.064208",
     "exception": true,
     "start_time": "2022-01-20T03:36:58.069215",
     "status": "failed"
    },
    "tags": []
   },
   "outputs": [
    {
     "ename": "AttributeError",
     "evalue": "'NoneType' object has no attribute 'shape'",
     "output_type": "error",
     "traceback": [
      "\u001b[0;31m---------------------------------------------------------------------------\u001b[0m",
      "\u001b[0;31mAttributeError\u001b[0m                            Traceback (most recent call last)",
      "\u001b[0;32m<ipython-input-36-43b7d65e97b3>\u001b[0m in \u001b[0;36m<module>\u001b[0;34m\u001b[0m\n\u001b[0;32m----> 1\u001b[0;31m \u001b[0mtest_img\u001b[0m\u001b[0;34m.\u001b[0m\u001b[0mshape\u001b[0m\u001b[0;34m\u001b[0m\u001b[0;34m\u001b[0m\u001b[0m\n\u001b[0m",
      "\u001b[0;31mAttributeError\u001b[0m: 'NoneType' object has no attribute 'shape'"
     ]
    }
   ],
   "source": [
    "test_img.shape"
   ]
  },
  {
   "cell_type": "code",
   "execution_count": null,
   "metadata": {
    "papermill": {
     "duration": null,
     "end_time": null,
     "exception": null,
     "start_time": null,
     "status": "pending"
    },
    "tags": []
   },
   "outputs": [],
   "source": [
    "test_img = cv2.resize(test_img, (48,48))\n",
    "test_img.shape"
   ]
  },
  {
   "cell_type": "code",
   "execution_count": null,
   "metadata": {
    "papermill": {
     "duration": null,
     "end_time": null,
     "exception": null,
     "start_time": null,
     "status": "pending"
    },
    "tags": []
   },
   "outputs": [],
   "source": [
    "test_img = test_img.reshape(1,48,48,1)"
   ]
  },
  {
   "cell_type": "code",
   "execution_count": null,
   "metadata": {
    "papermill": {
     "duration": null,
     "end_time": null,
     "exception": null,
     "start_time": null,
     "status": "pending"
    },
    "tags": []
   },
   "outputs": [],
   "source": [
    "model.predict(test_img)"
   ]
  },
  {
   "cell_type": "code",
   "execution_count": null,
   "metadata": {
    "papermill": {
     "duration": null,
     "end_time": null,
     "exception": null,
     "start_time": null,
     "status": "pending"
    },
    "tags": []
   },
   "outputs": [],
   "source": [
    "# label_map = ['Anger', 'Neutral', 'Fear', 'Happy', 'Sad', 'Surprise']"
   ]
  }
 ],
 "metadata": {
  "kernelspec": {
   "display_name": "Python 3",
   "language": "python",
   "name": "python3"
  },
  "language_info": {
   "codemirror_mode": {
    "name": "ipython",
    "version": 3
   },
   "file_extension": ".py",
   "mimetype": "text/x-python",
   "name": "python",
   "nbconvert_exporter": "python",
   "pygments_lexer": "ipython3",
   "version": "3.7.6"
  },
  "papermill": {
   "duration": 20341.565246,
   "end_time": "2022-01-20T03:37:01.925015",
   "environment_variables": {},
   "exception": true,
   "input_path": "__notebook__.ipynb",
   "output_path": "__notebook__.ipynb",
   "parameters": {},
   "start_time": "2022-01-19T21:58:00.359769",
   "version": "2.1.0"
  }
 },
 "nbformat": 4,
 "nbformat_minor": 4
}
